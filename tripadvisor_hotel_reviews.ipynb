{
  "nbformat": 4,
  "nbformat_minor": 0,
  "metadata": {
    "colab": {
      "provenance": [],
      "toc_visible": true
    },
    "kernelspec": {
      "name": "python3",
      "display_name": "Python 3"
    },
    "language_info": {
      "name": "python"
    }
  },
  "cells": [
    {
      "cell_type": "code",
      "execution_count": 3,
      "metadata": {
        "id": "qxwaN33KxK6G"
      },
      "outputs": [],
      "source": [
        "import pandas as pd\n",
        "import numpy as np\n",
        "import matplotlib.pyplot as plt"
      ]
    },
    {
      "cell_type": "markdown",
      "source": [
        "# Import Dataset"
      ],
      "metadata": {
        "id": "Fs1GrXZOgmUi"
      }
    },
    {
      "cell_type": "code",
      "source": [
        "url = 'https://raw.github.com/Naufalfdh19/tripadvisor_hotel_reviews/main/tripadvisor_hotel_reviews.csv'\n",
        "df = pd.read_csv(url)\n",
        "df.tail(10)"
      ],
      "metadata": {
        "colab": {
          "base_uri": "https://localhost:8080/",
          "height": 363
        },
        "id": "XYASWrMDxWeF",
        "outputId": "75ff4e33-9d87-4610-d9d2-f9d9a78ec395"
      },
      "execution_count": 4,
      "outputs": [
        {
          "output_type": "execute_result",
          "data": {
            "text/plain": [
              "                                                Review  Rating\n",
              "99   great people great location took wife birthday...       5\n",
              "100  great location stayed stopover australia 2 5 y...       4\n",
              "101  great location reasonable hotel overall happy ...       4\n",
              "102  beautiful i.m, pei designed hotel i.m pei desi...       5\n",
              "103  excellent, read reviews sure booked room north...       5\n",
              "104  fairmont hotel singapore splendid, stayed fair...       5\n",
              "105  great hotel stayed hotel night route perth chr...       4\n",
              "106  great hotel centre stayed 5 nights room overlo...       4\n",
              "107  great location great value great hotel husband...       5\n",
              "108  lovely hotel great location stayed vacation to...       5"
            ],
            "text/html": [
              "\n",
              "  <div id=\"df-e5b6f685-9392-434b-80bb-01861fb673be\" class=\"colab-df-container\">\n",
              "    <div>\n",
              "<style scoped>\n",
              "    .dataframe tbody tr th:only-of-type {\n",
              "        vertical-align: middle;\n",
              "    }\n",
              "\n",
              "    .dataframe tbody tr th {\n",
              "        vertical-align: top;\n",
              "    }\n",
              "\n",
              "    .dataframe thead th {\n",
              "        text-align: right;\n",
              "    }\n",
              "</style>\n",
              "<table border=\"1\" class=\"dataframe\">\n",
              "  <thead>\n",
              "    <tr style=\"text-align: right;\">\n",
              "      <th></th>\n",
              "      <th>Review</th>\n",
              "      <th>Rating</th>\n",
              "    </tr>\n",
              "  </thead>\n",
              "  <tbody>\n",
              "    <tr>\n",
              "      <th>99</th>\n",
              "      <td>great people great location took wife birthday...</td>\n",
              "      <td>5</td>\n",
              "    </tr>\n",
              "    <tr>\n",
              "      <th>100</th>\n",
              "      <td>great location stayed stopover australia 2 5 y...</td>\n",
              "      <td>4</td>\n",
              "    </tr>\n",
              "    <tr>\n",
              "      <th>101</th>\n",
              "      <td>great location reasonable hotel overall happy ...</td>\n",
              "      <td>4</td>\n",
              "    </tr>\n",
              "    <tr>\n",
              "      <th>102</th>\n",
              "      <td>beautiful i.m, pei designed hotel i.m pei desi...</td>\n",
              "      <td>5</td>\n",
              "    </tr>\n",
              "    <tr>\n",
              "      <th>103</th>\n",
              "      <td>excellent, read reviews sure booked room north...</td>\n",
              "      <td>5</td>\n",
              "    </tr>\n",
              "    <tr>\n",
              "      <th>104</th>\n",
              "      <td>fairmont hotel singapore splendid, stayed fair...</td>\n",
              "      <td>5</td>\n",
              "    </tr>\n",
              "    <tr>\n",
              "      <th>105</th>\n",
              "      <td>great hotel stayed hotel night route perth chr...</td>\n",
              "      <td>4</td>\n",
              "    </tr>\n",
              "    <tr>\n",
              "      <th>106</th>\n",
              "      <td>great hotel centre stayed 5 nights room overlo...</td>\n",
              "      <td>4</td>\n",
              "    </tr>\n",
              "    <tr>\n",
              "      <th>107</th>\n",
              "      <td>great location great value great hotel husband...</td>\n",
              "      <td>5</td>\n",
              "    </tr>\n",
              "    <tr>\n",
              "      <th>108</th>\n",
              "      <td>lovely hotel great location stayed vacation to...</td>\n",
              "      <td>5</td>\n",
              "    </tr>\n",
              "  </tbody>\n",
              "</table>\n",
              "</div>\n",
              "    <div class=\"colab-df-buttons\">\n",
              "\n",
              "  <div class=\"colab-df-container\">\n",
              "    <button class=\"colab-df-convert\" onclick=\"convertToInteractive('df-e5b6f685-9392-434b-80bb-01861fb673be')\"\n",
              "            title=\"Convert this dataframe to an interactive table.\"\n",
              "            style=\"display:none;\">\n",
              "\n",
              "  <svg xmlns=\"http://www.w3.org/2000/svg\" height=\"24px\" viewBox=\"0 -960 960 960\">\n",
              "    <path d=\"M120-120v-720h720v720H120Zm60-500h600v-160H180v160Zm220 220h160v-160H400v160Zm0 220h160v-160H400v160ZM180-400h160v-160H180v160Zm440 0h160v-160H620v160ZM180-180h160v-160H180v160Zm440 0h160v-160H620v160Z\"/>\n",
              "  </svg>\n",
              "    </button>\n",
              "\n",
              "  <style>\n",
              "    .colab-df-container {\n",
              "      display:flex;\n",
              "      gap: 12px;\n",
              "    }\n",
              "\n",
              "    .colab-df-convert {\n",
              "      background-color: #E8F0FE;\n",
              "      border: none;\n",
              "      border-radius: 50%;\n",
              "      cursor: pointer;\n",
              "      display: none;\n",
              "      fill: #1967D2;\n",
              "      height: 32px;\n",
              "      padding: 0 0 0 0;\n",
              "      width: 32px;\n",
              "    }\n",
              "\n",
              "    .colab-df-convert:hover {\n",
              "      background-color: #E2EBFA;\n",
              "      box-shadow: 0px 1px 2px rgba(60, 64, 67, 0.3), 0px 1px 3px 1px rgba(60, 64, 67, 0.15);\n",
              "      fill: #174EA6;\n",
              "    }\n",
              "\n",
              "    .colab-df-buttons div {\n",
              "      margin-bottom: 4px;\n",
              "    }\n",
              "\n",
              "    [theme=dark] .colab-df-convert {\n",
              "      background-color: #3B4455;\n",
              "      fill: #D2E3FC;\n",
              "    }\n",
              "\n",
              "    [theme=dark] .colab-df-convert:hover {\n",
              "      background-color: #434B5C;\n",
              "      box-shadow: 0px 1px 3px 1px rgba(0, 0, 0, 0.15);\n",
              "      filter: drop-shadow(0px 1px 2px rgba(0, 0, 0, 0.3));\n",
              "      fill: #FFFFFF;\n",
              "    }\n",
              "  </style>\n",
              "\n",
              "    <script>\n",
              "      const buttonEl =\n",
              "        document.querySelector('#df-e5b6f685-9392-434b-80bb-01861fb673be button.colab-df-convert');\n",
              "      buttonEl.style.display =\n",
              "        google.colab.kernel.accessAllowed ? 'block' : 'none';\n",
              "\n",
              "      async function convertToInteractive(key) {\n",
              "        const element = document.querySelector('#df-e5b6f685-9392-434b-80bb-01861fb673be');\n",
              "        const dataTable =\n",
              "          await google.colab.kernel.invokeFunction('convertToInteractive',\n",
              "                                                    [key], {});\n",
              "        if (!dataTable) return;\n",
              "\n",
              "        const docLinkHtml = 'Like what you see? Visit the ' +\n",
              "          '<a target=\"_blank\" href=https://colab.research.google.com/notebooks/data_table.ipynb>data table notebook</a>'\n",
              "          + ' to learn more about interactive tables.';\n",
              "        element.innerHTML = '';\n",
              "        dataTable['output_type'] = 'display_data';\n",
              "        await google.colab.output.renderOutput(dataTable, element);\n",
              "        const docLink = document.createElement('div');\n",
              "        docLink.innerHTML = docLinkHtml;\n",
              "        element.appendChild(docLink);\n",
              "      }\n",
              "    </script>\n",
              "  </div>\n",
              "\n",
              "\n",
              "<div id=\"df-0cc32a8e-2882-4214-8f0e-a05122964858\">\n",
              "  <button class=\"colab-df-quickchart\" onclick=\"quickchart('df-0cc32a8e-2882-4214-8f0e-a05122964858')\"\n",
              "            title=\"Suggest charts\"\n",
              "            style=\"display:none;\">\n",
              "\n",
              "<svg xmlns=\"http://www.w3.org/2000/svg\" height=\"24px\"viewBox=\"0 0 24 24\"\n",
              "     width=\"24px\">\n",
              "    <g>\n",
              "        <path d=\"M19 3H5c-1.1 0-2 .9-2 2v14c0 1.1.9 2 2 2h14c1.1 0 2-.9 2-2V5c0-1.1-.9-2-2-2zM9 17H7v-7h2v7zm4 0h-2V7h2v10zm4 0h-2v-4h2v4z\"/>\n",
              "    </g>\n",
              "</svg>\n",
              "  </button>\n",
              "\n",
              "<style>\n",
              "  .colab-df-quickchart {\n",
              "      --bg-color: #E8F0FE;\n",
              "      --fill-color: #1967D2;\n",
              "      --hover-bg-color: #E2EBFA;\n",
              "      --hover-fill-color: #174EA6;\n",
              "      --disabled-fill-color: #AAA;\n",
              "      --disabled-bg-color: #DDD;\n",
              "  }\n",
              "\n",
              "  [theme=dark] .colab-df-quickchart {\n",
              "      --bg-color: #3B4455;\n",
              "      --fill-color: #D2E3FC;\n",
              "      --hover-bg-color: #434B5C;\n",
              "      --hover-fill-color: #FFFFFF;\n",
              "      --disabled-bg-color: #3B4455;\n",
              "      --disabled-fill-color: #666;\n",
              "  }\n",
              "\n",
              "  .colab-df-quickchart {\n",
              "    background-color: var(--bg-color);\n",
              "    border: none;\n",
              "    border-radius: 50%;\n",
              "    cursor: pointer;\n",
              "    display: none;\n",
              "    fill: var(--fill-color);\n",
              "    height: 32px;\n",
              "    padding: 0;\n",
              "    width: 32px;\n",
              "  }\n",
              "\n",
              "  .colab-df-quickchart:hover {\n",
              "    background-color: var(--hover-bg-color);\n",
              "    box-shadow: 0 1px 2px rgba(60, 64, 67, 0.3), 0 1px 3px 1px rgba(60, 64, 67, 0.15);\n",
              "    fill: var(--button-hover-fill-color);\n",
              "  }\n",
              "\n",
              "  .colab-df-quickchart-complete:disabled,\n",
              "  .colab-df-quickchart-complete:disabled:hover {\n",
              "    background-color: var(--disabled-bg-color);\n",
              "    fill: var(--disabled-fill-color);\n",
              "    box-shadow: none;\n",
              "  }\n",
              "\n",
              "  .colab-df-spinner {\n",
              "    border: 2px solid var(--fill-color);\n",
              "    border-color: transparent;\n",
              "    border-bottom-color: var(--fill-color);\n",
              "    animation:\n",
              "      spin 1s steps(1) infinite;\n",
              "  }\n",
              "\n",
              "  @keyframes spin {\n",
              "    0% {\n",
              "      border-color: transparent;\n",
              "      border-bottom-color: var(--fill-color);\n",
              "      border-left-color: var(--fill-color);\n",
              "    }\n",
              "    20% {\n",
              "      border-color: transparent;\n",
              "      border-left-color: var(--fill-color);\n",
              "      border-top-color: var(--fill-color);\n",
              "    }\n",
              "    30% {\n",
              "      border-color: transparent;\n",
              "      border-left-color: var(--fill-color);\n",
              "      border-top-color: var(--fill-color);\n",
              "      border-right-color: var(--fill-color);\n",
              "    }\n",
              "    40% {\n",
              "      border-color: transparent;\n",
              "      border-right-color: var(--fill-color);\n",
              "      border-top-color: var(--fill-color);\n",
              "    }\n",
              "    60% {\n",
              "      border-color: transparent;\n",
              "      border-right-color: var(--fill-color);\n",
              "    }\n",
              "    80% {\n",
              "      border-color: transparent;\n",
              "      border-right-color: var(--fill-color);\n",
              "      border-bottom-color: var(--fill-color);\n",
              "    }\n",
              "    90% {\n",
              "      border-color: transparent;\n",
              "      border-bottom-color: var(--fill-color);\n",
              "    }\n",
              "  }\n",
              "</style>\n",
              "\n",
              "  <script>\n",
              "    async function quickchart(key) {\n",
              "      const quickchartButtonEl =\n",
              "        document.querySelector('#' + key + ' button');\n",
              "      quickchartButtonEl.disabled = true;  // To prevent multiple clicks.\n",
              "      quickchartButtonEl.classList.add('colab-df-spinner');\n",
              "      try {\n",
              "        const charts = await google.colab.kernel.invokeFunction(\n",
              "            'suggestCharts', [key], {});\n",
              "      } catch (error) {\n",
              "        console.error('Error during call to suggestCharts:', error);\n",
              "      }\n",
              "      quickchartButtonEl.classList.remove('colab-df-spinner');\n",
              "      quickchartButtonEl.classList.add('colab-df-quickchart-complete');\n",
              "    }\n",
              "    (() => {\n",
              "      let quickchartButtonEl =\n",
              "        document.querySelector('#df-0cc32a8e-2882-4214-8f0e-a05122964858 button');\n",
              "      quickchartButtonEl.style.display =\n",
              "        google.colab.kernel.accessAllowed ? 'block' : 'none';\n",
              "    })();\n",
              "  </script>\n",
              "</div>\n",
              "\n",
              "    </div>\n",
              "  </div>\n"
            ],
            "application/vnd.google.colaboratory.intrinsic+json": {
              "type": "dataframe",
              "summary": "{\n  \"name\": \"df\",\n  \"rows\": 10,\n  \"fields\": [\n    {\n      \"column\": \"Review\",\n      \"properties\": {\n        \"dtype\": \"string\",\n        \"num_unique_values\": 10,\n        \"samples\": [\n          \"great location great value great hotel husband stayed 3 nights start month long tour far east australia.our stop perth australia australian friends recommended singapore stop-over help jet lag, worked jet lag time arrived perth, unfortunately did bad jet lag singapore.we absolutely loved stay raffles plaza, fantastic value money brilliant location right opposite raffles really helpful staff.after long trip edinburgh raindrop shower fantastic deluxe room, room great views lots clever electrics e.g, automated curtains lighting controls bed, breakast included deal class, sitting pool area morning lovely, concierge friendly highlighted places map, hopefully singapore soon definitely stay,  \",\n          \"great location stayed stopover australia 2 5 yr olds, great location easily shops/cafes going outside humid, hotel great pool renovation reason booked hotel, disappointed offered shuttle bus use pool 2 hassle stroller didnt room 2 double beds fabulous bathroom, breakfast included amazing food want, staff friendly helpful stay.short walk merlion singapore flyer mrt right, perfect location lovely hotel,  \",\n          \"fairmont hotel singapore splendid, stayed fairmont singapore nights february chinese new year, plaza suite 23rd floor large clean devine, view overlooked historic raffles hotel, turn service evening, large bathroom raindrop showerhead beautiful appointments, bose sound electronic blinds, breakfasted plaza floor restaurants choose, shopping plaza directly hotel, restaurants budget star close proximity, stocked supermarket complex, short walking distance key attractions, staff doormen housekeeping helpful welcoming, simply best hotels stayed world, ca n't wait return,  \"\n        ],\n        \"semantic_type\": \"\",\n        \"description\": \"\"\n      }\n    },\n    {\n      \"column\": \"Rating\",\n      \"properties\": {\n        \"dtype\": \"number\",\n        \"std\": 0,\n        \"min\": 4,\n        \"max\": 5,\n        \"num_unique_values\": 2,\n        \"samples\": [\n          4,\n          5\n        ],\n        \"semantic_type\": \"\",\n        \"description\": \"\"\n      }\n    }\n  ]\n}"
            }
          },
          "metadata": {},
          "execution_count": 4
        }
      ]
    },
    {
      "cell_type": "code",
      "source": [
        "df.info()"
      ],
      "metadata": {
        "colab": {
          "base_uri": "https://localhost:8080/"
        },
        "id": "kPbX3FIs46Fg",
        "outputId": "59ff3cce-2b7c-4e13-a57c-374202282350"
      },
      "execution_count": 5,
      "outputs": [
        {
          "output_type": "stream",
          "name": "stdout",
          "text": [
            "<class 'pandas.core.frame.DataFrame'>\n",
            "RangeIndex: 109 entries, 0 to 108\n",
            "Data columns (total 2 columns):\n",
            " #   Column  Non-Null Count  Dtype \n",
            "---  ------  --------------  ----- \n",
            " 0   Review  109 non-null    object\n",
            " 1   Rating  109 non-null    int64 \n",
            "dtypes: int64(1), object(1)\n",
            "memory usage: 1.8+ KB\n"
          ]
        }
      ]
    },
    {
      "cell_type": "code",
      "source": [
        "# rating distribution\n",
        "\n",
        "rating_counts = df['Rating'].value_counts().sort_index()\n",
        "ax = rating_counts.plot.bar()\n",
        "\n",
        "for i, count in enumerate(rating_counts):\n",
        "    ax.text(i, count + 1, str(count), ha='center', va='bottom')\n",
        "\n",
        "ax.set_xlabel(\"Rating\")\n",
        "ax.set_ylabel(\"Count\")\n",
        "ax.set_title(\"Rating Distribution\")\n",
        "ax.set_ylim(0, max(rating_counts) * 1.10)\n",
        "plt.xticks(rotation=0)\n",
        "plt.show()"
      ],
      "metadata": {
        "colab": {
          "base_uri": "https://localhost:8080/",
          "height": 472
        },
        "id": "ySVIIb_bV3xQ",
        "outputId": "29e71bf8-8e96-4495-afbd-10f503e27adf"
      },
      "execution_count": 34,
      "outputs": [
        {
          "output_type": "display_data",
          "data": {
            "text/plain": [
              "<Figure size 640x480 with 1 Axes>"
            ],
            "image/png": "[encoded data removed]"
          },
          "metadata": {}
        }
      ]
    },
    {
      "cell_type": "code",
      "source": [
        "# make a review in lowercase to avoid the same word treat differently\n",
        "\n",
        "df['Review'] = df['Review'].apply(lambda x: x.lower())\n",
        "\n",
        "# you can use \"df['Review'].str.lower()\" line with the same result with above line"
      ],
      "metadata": {
        "id": "MPVSwvgCysii"
      },
      "execution_count": 8,
      "outputs": []
    },
    {
      "cell_type": "markdown",
      "source": [
        "# Remove Stopwords"
      ],
      "metadata": {
        "id": "tL_1qQfHg-qn"
      }
    },
    {
      "cell_type": "code",
      "source": [
        "import nltk\n",
        "nltk.download('stopwords')\n",
        "from nltk.corpus import stopwords"
      ],
      "metadata": {
        "colab": {
          "base_uri": "https://localhost:8080/"
        },
        "id": "YOExI6IF1tzL",
        "outputId": "4520af57-f325-471e-eb4a-c881f246e073"
      },
      "execution_count": 9,
      "outputs": [
        {
          "output_type": "stream",
          "name": "stderr",
          "text": [
            "[nltk_data] Downloading package stopwords to /root/nltk_data...\n",
            "[nltk_data]   Unzipping corpora/stopwords.zip.\n"
          ]
        }
      ]
    },
    {
      "cell_type": "code",
      "source": [
        "en_stopwords = stopwords.words('english')\n",
        "en_stopwords.remove(\"not\")"
      ],
      "metadata": {
        "id": "ozS6o8Jz12Zu"
      },
      "execution_count": 10,
      "outputs": []
    },
    {
      "cell_type": "code",
      "source": [
        "print(en_stopwords)"
      ],
      "metadata": {
        "colab": {
          "base_uri": "https://localhost:8080/"
        },
        "id": "wZqHXS-A19xR",
        "outputId": "6ae7e1c3-c603-451b-e063-4721ed26a356"
      },
      "execution_count": 11,
      "outputs": [
        {
          "output_type": "stream",
          "name": "stdout",
          "text": [
            "['a', 'about', 'above', 'after', 'again', 'against', 'ain', 'all', 'am', 'an', 'and', 'any', 'are', 'aren', \"aren't\", 'as', 'at', 'be', 'because', 'been', 'before', 'being', 'below', 'between', 'both', 'but', 'by', 'can', 'couldn', \"couldn't\", 'd', 'did', 'didn', \"didn't\", 'do', 'does', 'doesn', \"doesn't\", 'doing', 'don', \"don't\", 'down', 'during', 'each', 'few', 'for', 'from', 'further', 'had', 'hadn', \"hadn't\", 'has', 'hasn', \"hasn't\", 'have', 'haven', \"haven't\", 'having', 'he', \"he'd\", \"he'll\", 'her', 'here', 'hers', 'herself', \"he's\", 'him', 'himself', 'his', 'how', 'i', \"i'd\", 'if', \"i'll\", \"i'm\", 'in', 'into', 'is', 'isn', \"isn't\", 'it', \"it'd\", \"it'll\", \"it's\", 'its', 'itself', \"i've\", 'just', 'll', 'm', 'ma', 'me', 'mightn', \"mightn't\", 'more', 'most', 'mustn', \"mustn't\", 'my', 'myself', 'needn', \"needn't\", 'no', 'nor', 'now', 'o', 'of', 'off', 'on', 'once', 'only', 'or', 'other', 'our', 'ours', 'ourselves', 'out', 'over', 'own', 're', 's', 'same', 'shan', \"shan't\", 'she', \"she'd\", \"she'll\", \"she's\", 'should', 'shouldn', \"shouldn't\", \"should've\", 'so', 'some', 'such', 't', 'than', 'that', \"that'll\", 'the', 'their', 'theirs', 'them', 'themselves', 'then', 'there', 'these', 'they', \"they'd\", \"they'll\", \"they're\", \"they've\", 'this', 'those', 'through', 'to', 'too', 'under', 'until', 'up', 've', 'very', 'was', 'wasn', \"wasn't\", 'we', \"we'd\", \"we'll\", \"we're\", 'were', 'weren', \"weren't\", \"we've\", 'what', 'when', 'where', 'which', 'while', 'who', 'whom', 'why', 'will', 'with', 'won', \"won't\", 'wouldn', \"wouldn't\", 'y', 'you', \"you'd\", \"you'll\", 'your', \"you're\", 'yours', 'yourself', 'yourselves', \"you've\"]\n"
          ]
        }
      ]
    },
    {
      "cell_type": "code",
      "source": [
        "def remove_stopwords(x):\n",
        "  return ' '.join([word for word in x.split() if word not in (en_stopwords)])"
      ],
      "metadata": {
        "id": "J3mJPv4j2BVT"
      },
      "execution_count": 12,
      "outputs": []
    },
    {
      "cell_type": "code",
      "source": [
        "df['Review'] = df['Review'].apply(lambda x: remove_stopwords(x))"
      ],
      "metadata": {
        "id": "hBwp-EgR2Usg"
      },
      "execution_count": 13,
      "outputs": []
    },
    {
      "cell_type": "markdown",
      "source": [
        "# Remove Punctuation"
      ],
      "metadata": {
        "id": "J9Vr9-87hGm9"
      }
    },
    {
      "cell_type": "code",
      "source": [
        "import re"
      ],
      "metadata": {
        "id": "hDWoShyg36wZ"
      },
      "execution_count": 14,
      "outputs": []
    },
    {
      "cell_type": "code",
      "source": [
        "def remove_punctuation(x):\n",
        "  pattern = r\"[^\\w\\s]\"\n",
        "  return re.sub(pattern, \"\", x)"
      ],
      "metadata": {
        "id": "9Yvf5KJg38Zf"
      },
      "execution_count": 15,
      "outputs": []
    },
    {
      "cell_type": "code",
      "source": [
        "df['Review'] = df['Review'].apply(lambda x: remove_punctuation(x))"
      ],
      "metadata": {
        "id": "IMtfxW194Vwd"
      },
      "execution_count": 16,
      "outputs": []
    },
    {
      "cell_type": "markdown",
      "source": [
        "# Tokenization"
      ],
      "metadata": {
        "id": "vySJ2wNXhMGP"
      }
    },
    {
      "cell_type": "code",
      "source": [
        "nltk.download('punkt_tab')\n",
        "from nltk.tokenize import word_tokenize, sent_tokenize"
      ],
      "metadata": {
        "colab": {
          "base_uri": "https://localhost:8080/"
        },
        "id": "ajpRNJEP3MpK",
        "outputId": "f470fee0-a800-4191-c418-eb217e7ba8d5"
      },
      "execution_count": 17,
      "outputs": [
        {
          "output_type": "stream",
          "name": "stderr",
          "text": [
            "[nltk_data] Downloading package punkt_tab to /root/nltk_data...\n",
            "[nltk_data]   Unzipping tokenizers/punkt_tab.zip.\n"
          ]
        }
      ]
    },
    {
      "cell_type": "code",
      "source": [
        "df['Review'].apply(lambda x: sent_tokenize(x))"
      ],
      "metadata": {
        "colab": {
          "base_uri": "https://localhost:8080/",
          "height": 458
        },
        "id": "Rl8itOHa3UEz",
        "outputId": "d082aac6-b3f6-4c91-e9c7-7b5e3b5f06d5"
      },
      "execution_count": 18,
      "outputs": [
        {
          "output_type": "execute_result",
          "data": {
            "text/plain": [
              "0      [nice hotel expensive parking got good deal st...\n",
              "1      [ok nothing special charge diamond member hilt...\n",
              "2      [nice rooms not 4 experience hotel monaco seat...\n",
              "3      [unique great stay wonderful time hotel monaco...\n",
              "4      [great stay great stay went seahawk game aweso...\n",
              "                             ...                        \n",
              "104    [fairmont hotel singapore splendid stayed fair...\n",
              "105    [great hotel stayed hotel night route perth ch...\n",
              "106    [great hotel centre stayed 5 nights room overl...\n",
              "107    [great location great value great hotel husban...\n",
              "108    [lovely hotel great location stayed vacation t...\n",
              "Name: Review, Length: 109, dtype: object"
            ],
            "text/html": [
              "<div>\n",
              "<style scoped>\n",
              "    .dataframe tbody tr th:only-of-type {\n",
              "        vertical-align: middle;\n",
              "    }\n",
              "\n",
              "    .dataframe tbody tr th {\n",
              "        vertical-align: top;\n",
              "    }\n",
              "\n",
              "    .dataframe thead th {\n",
              "        text-align: right;\n",
              "    }\n",
              "</style>\n",
              "<table border=\"1\" class=\"dataframe\">\n",
              "  <thead>\n",
              "    <tr style=\"text-align: right;\">\n",
              "      <th></th>\n",
              "      <th>Review</th>\n",
              "    </tr>\n",
              "  </thead>\n",
              "  <tbody>\n",
              "    <tr>\n",
              "      <th>0</th>\n",
              "      <td>[nice hotel expensive parking got good deal st...</td>\n",
              "    </tr>\n",
              "    <tr>\n",
              "      <th>1</th>\n",
              "      <td>[ok nothing special charge diamond member hilt...</td>\n",
              "    </tr>\n",
              "    <tr>\n",
              "      <th>2</th>\n",
              "      <td>[nice rooms not 4 experience hotel monaco seat...</td>\n",
              "    </tr>\n",
              "    <tr>\n",
              "      <th>3</th>\n",
              "      <td>[unique great stay wonderful time hotel monaco...</td>\n",
              "    </tr>\n",
              "    <tr>\n",
              "      <th>4</th>\n",
              "      <td>[great stay great stay went seahawk game aweso...</td>\n",
              "    </tr>\n",
              "    <tr>\n",
              "      <th>...</th>\n",
              "      <td>...</td>\n",
              "    </tr>\n",
              "    <tr>\n",
              "      <th>104</th>\n",
              "      <td>[fairmont hotel singapore splendid stayed fair...</td>\n",
              "    </tr>\n",
              "    <tr>\n",
              "      <th>105</th>\n",
              "      <td>[great hotel stayed hotel night route perth ch...</td>\n",
              "    </tr>\n",
              "    <tr>\n",
              "      <th>106</th>\n",
              "      <td>[great hotel centre stayed 5 nights room overl...</td>\n",
              "    </tr>\n",
              "    <tr>\n",
              "      <th>107</th>\n",
              "      <td>[great location great value great hotel husban...</td>\n",
              "    </tr>\n",
              "    <tr>\n",
              "      <th>108</th>\n",
              "      <td>[lovely hotel great location stayed vacation t...</td>\n",
              "    </tr>\n",
              "  </tbody>\n",
              "</table>\n",
              "<p>109 rows × 1 columns</p>\n",
              "</div><br><label><b>dtype:</b> object</label>"
            ]
          },
          "metadata": {},
          "execution_count": 18
        }
      ]
    },
    {
      "cell_type": "code",
      "source": [
        "df['Review'] = df['Review'].apply(lambda x: word_tokenize(x))"
      ],
      "metadata": {
        "id": "z4ob8c7I3iFd"
      },
      "execution_count": 19,
      "outputs": []
    },
    {
      "cell_type": "markdown",
      "source": [
        "# Lemmatization"
      ],
      "metadata": {
        "id": "3rG9ZozHhQmo"
      }
    },
    {
      "cell_type": "code",
      "source": [
        "nltk.download('wordnet')\n",
        "from nltk.stem import WordNetLemmatizer"
      ],
      "metadata": {
        "colab": {
          "base_uri": "https://localhost:8080/"
        },
        "id": "8JQTvZzN6oRu",
        "outputId": "9e8ed221-c43c-4ea7-b151-335bd9f3aa72"
      },
      "execution_count": 20,
      "outputs": [
        {
          "output_type": "stream",
          "name": "stderr",
          "text": [
            "[nltk_data] Downloading package wordnet to /root/nltk_data...\n"
          ]
        }
      ]
    },
    {
      "cell_type": "code",
      "source": [
        "lemmatizer = WordNetLemmatizer()"
      ],
      "metadata": {
        "id": "7rrbVAt76rWZ"
      },
      "execution_count": 21,
      "outputs": []
    },
    {
      "cell_type": "code",
      "source": [
        "def lemmatized_words(x):\n",
        "  return [lemmatizer.lemmatize(word) for word in x]\n",
        "\n",
        "def combine_words(x):\n",
        "  return ' '.join([word for word in x])"
      ],
      "metadata": {
        "id": "vuC7xDAN7VfK"
      },
      "execution_count": 22,
      "outputs": []
    },
    {
      "cell_type": "code",
      "source": [
        "df['Review'] = df['Review'].apply(lambda x: combine_words(lemmatized_words(x)))"
      ],
      "metadata": {
        "id": "9HVBcpUd6tQN"
      },
      "execution_count": 23,
      "outputs": []
    },
    {
      "cell_type": "markdown",
      "source": [
        "# Explatory Data Analysis"
      ],
      "metadata": {
        "id": "wBNJZTi5hUas"
      }
    },
    {
      "cell_type": "code",
      "source": [
        "from sklearn.feature_extraction.text import CountVectorizer"
      ],
      "metadata": {
        "id": "reFPa8fhBZFi"
      },
      "execution_count": 24,
      "outputs": []
    },
    {
      "cell_type": "code",
      "source": [
        "def word_count(data, n_min, n_max):\n",
        "  vectorizer = CountVectorizer(ngram_range=(n_min, n_max))\n",
        "  X = vectorizer.fit_transform(data)\n",
        "\n",
        "  ngram_counts = pd.DataFrame(\n",
        "      X.toarray(),\n",
        "      columns=vectorizer.get_feature_names_out()\n",
        "  )\n",
        "\n",
        "  ngram_totals = ngram_counts.sum().sort_values(ascending=False)\n",
        "\n",
        "  return ngram_totals\n"
      ],
      "metadata": {
        "id": "36FTbOi9NTWZ"
      },
      "execution_count": 38,
      "outputs": []
    },
    {
      "cell_type": "code",
      "source": [
        "data = df['Review'][df['Rating'] >= 4]\n",
        "\n",
        "remove_words = ['space needle', 'convention center', 'king bed', 'crowne plaza', 'hotel monaco', 'pike place', 'walking distance']\n",
        "pattern = '|'.join(remove_words)\n",
        "\n",
        "ngram_totals = word_count(data, 2, 3)\n",
        "ngram_totals = ngram_totals[~ngram_totals.index.str.contains(pattern)]\n",
        "\n",
        "top_10_words = ngram_totals.head(10)\n",
        "\n",
        "top_10_words.plot.bar(figsize=(12,6))\n",
        "plt.xlabel(\"Words\")\n",
        "plt.ylabel(\"Frequency\")\n",
        "plt.xticks(rotation=50)"
      ],
      "metadata": {
        "colab": {
          "base_uri": "https://localhost:8080/",
          "height": 802
        },
        "id": "f4BlVla_FTWU",
        "outputId": "605cf1a2-8d02-414a-f3e0-acd36d8ef92f"
      },
      "execution_count": 64,
      "outputs": [
        {
          "output_type": "execute_result",
          "data": {
            "text/plain": [
              "(array([0, 1, 2, 3, 4, 5, 6, 7, 8, 9]),\n",
              " [Text(0, 0, 'great location'),\n",
              "  Text(1, 0, 'great view'),\n",
              "  Text(2, 0, 'staff friendly'),\n",
              "  Text(3, 0, 'great hotel'),\n",
              "  Text(4, 0, 'staff helpful'),\n",
              "  Text(5, 0, 'pike market'),\n",
              "  Text(6, 0, 'inn market'),\n",
              "  Text(7, 0, 'room clean'),\n",
              "  Text(8, 0, 'location great'),\n",
              "  Text(9, 0, 'place market')])"
            ]
          },
          "metadata": {},
          "execution_count": 64
        },
        {
          "output_type": "display_data",
          "data": {
            "text/plain": [
              "<Figure size 1200x600 with 1 Axes>"
            ],
            "image/png": "[encoded data removed]"
          },
          "metadata": {}
        }
      ]
    },
    {
      "cell_type": "markdown",
      "source": [
        "Causes of High Ratings (4 to 5)\n",
        "\n",
        "**Great Location**\n",
        "\n",
        "Guests appreciate the hotel's strategic location, which provides easy access to nearby attractions, restaurants, and public transportation.\n",
        "\n",
        "**Beautiful Views**\n",
        "\n",
        "Many reviews highlight the scenic views from the hotel rooms or common areas, adding to a pleasant and memorable stay.\n",
        "\n",
        "**Friendly Staff**\n",
        "\n",
        "The staff is often described as welcoming, approachable, and polite, creating a warm and comfortable atmosphere for guests.\n",
        "\n",
        "**Excellent Hotel Facilities**\n",
        "\n",
        "Reviewers frequently mention the overall quality of the hotel—including cleanliness, amenities, and design—as exceeding expectations.\n",
        "\n",
        "**Helpful Service**\n",
        "\n",
        "The staff is praised for going above and beyond to assist guests, whether through providing local information, solving problems quickly, or fulfilling special requests.\n",
        "\n"
      ],
      "metadata": {
        "id": "4J5V86sovGsT"
      }
    },
    {
      "cell_type": "code",
      "source": [
        "data = df['Review'][df['Rating'] < 4]\n",
        "\n",
        "remove_words = ['inn queen anne', 'place stay seattle', 'stay crowne plaza']\n",
        "pattern = '|'.join(remove_words)\n",
        "\n",
        "ngram_totals = word_count(data, 3, 3)\n",
        "ngram_totals = ngram_totals[~ngram_totals.index.str.contains(pattern)]\n",
        "\n",
        "top_10_words = ngram_totals.head(10)\n",
        "\n",
        "top_10_words.plot.bar(figsize=(12,6))\n",
        "plt.xlabel(\"Words\")\n",
        "plt.ylabel(\"Frequency\")\n",
        "plt.xticks(rotation=50)"
      ],
      "metadata": {
        "colab": {
          "base_uri": "https://localhost:8080/",
          "height": 852
        },
        "id": "4fAm7nbhFWww",
        "outputId": "9b700c7d-b2f6-4940-c17b-77ed5a6b752d"
      },
      "execution_count": 62,
      "outputs": [
        {
          "output_type": "execute_result",
          "data": {
            "text/plain": [
              "(array([0, 1, 2, 3, 4, 5, 6, 7, 8, 9]),\n",
              " [Text(0, 0, 'consider smoking room'),\n",
              "  Text(1, 0, 'staff quite rude'),\n",
              "  Text(2, 0, 'room higher floor'),\n",
              "  Text(3, 0, 'room not serviced'),\n",
              "  Text(4, 0, 'pool basement quaint'),\n",
              "  Text(5, 0, 'polite cheery helpful'),\n",
              "  Text(6, 0, 'policy reserve room'),\n",
              "  Text(7, 0, 'poor cleanliness check'),\n",
              "  Text(8, 0, 'point crowne room'),\n",
              "  Text(9, 0, 'pmam lounge cleaned')])"
            ]
          },
          "metadata": {},
          "execution_count": 62
        },
        {
          "output_type": "display_data",
          "data": {
            "text/plain": [
              "<Figure size 1200x600 with 1 Axes>"
            ],
            "image/png": "[encoded data removed]"
          },
          "metadata": {}
        }
      ]
    },
    {
      "cell_type": "markdown",
      "source": [
        "Causes of Low Ratings (1 to 3 stars):\n",
        "\n",
        "**Lack of Smoking Room**\n",
        "\n",
        "The hotel does not provide a designated smoking area or smoking room. This is inconvenient for guests who smoke, and may also cause discomfort for non-smokers who are exposed to smoke in undesignated areas. This issue likely contributed to negative reviews from both groups.\n",
        "\n",
        "**Rude Staff**\n",
        "\n",
        "Several guests mentioned unpleasant interactions with staff, describing them as unfriendly or unhelpful. Poor customer service significantly impacts the overall guest experience and contributes to low satisfaction.\n",
        "\n",
        "**Room Issues**\n",
        "\n",
        "- Unserviced Rooms: Some guests reported that their rooms were not cleaned or maintained properly during their stay.\n",
        "\n",
        "- Inconsistent Room Quality: Guests staying on higher floors felt that their rooms were of lower quality compared to those on lower floors, leading to dissatisfaction.\n",
        "\n"
      ],
      "metadata": {
        "id": "5IdqEdWBty8v"
      }
    }
  ]
}